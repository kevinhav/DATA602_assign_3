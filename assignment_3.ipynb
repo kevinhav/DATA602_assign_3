{
 "cells": [
  {
   "cell_type": "markdown",
   "metadata": {},
   "source": [
    "## Q1\n",
    "Write a program that prompts the user for a meal: breakfast, lunch, or dinner. Then using if statements and else statements print the user a message recommending a meal. For example, if the meal was breakfast, you could say something like, “How about some bacon and eggs?”\n",
    "The user may enter something else in, but you only have to respond to breakfast, lunch, or dinner"
   ]
  },
  {
   "cell_type": "code",
   "execution_count": 14,
   "metadata": {},
   "outputs": [
    {
     "name": "stdout",
     "output_type": "stream",
     "text": [
      "What about a salad?\n"
     ]
    }
   ],
   "source": [
    "import random\n",
    "\n",
    "def meal_time():\n",
    "\n",
    "    # initiate menu\n",
    "    bfast = ['oatmeal', 'cereal', 'fruit']\n",
    "    lunch = ['sandwich', 'salad', 'rice bowl']\n",
    "    dinner = ['stew', 'roast', 'pizza']\n",
    "\n",
    "    # Get user input\n",
    "    meal = input('What meal are you having?')\n",
    "\n",
    "    # Recommend random menu item\n",
    "    if meal == 'breakfast':\n",
    "        print(f\"What about some {bfast[random.randint(0,2)]}?\")\n",
    "    elif meal == 'lunch':\n",
    "        print(f\"What about a {lunch[random.randint(0,2)]}?\")\n",
    "    elif meal == 'dinner':\n",
    "        print(f\"What about a {dinner[random.randint(0,2)]}?\")\n",
    "    else:\n",
    "        \"New meal, cool!\"\n",
    "    \n",
    "    return None\n",
    "\n",
    "meal_time()"
   ]
  },
  {
   "cell_type": "markdown",
   "metadata": {},
   "source": [
    "\n",
    "## Q2\n",
    "The mailroom has asked you to design a simple payroll program that calculates a student employee’s gross pay, including any overtime wages. If any employee works over 20 hours in a week, the mailroom pays them 1.5 times their regular hourly pay rate for all hours over 20. \n",
    "You should take in the user’s input for the number of hours worked, and their rate of pay."
   ]
  },
  {
   "cell_type": "code",
   "execution_count": 12,
   "metadata": {},
   "outputs": [
    {
     "name": "stdout",
     "output_type": "stream",
     "text": [
      "Employee gross pay: 400.0\n"
     ]
    }
   ],
   "source": [
    "def payroll():\n",
    "\n",
    "    OVER_RATE = 1.5\n",
    "    BASE_HOURS = 20\n",
    "\n",
    "    hours = float(input(\"Employee hours worked: \"))\n",
    "    rate = float(input(\"Employee pay rate: \"))\n",
    "\n",
    "    if hours > BASE_HOURS:\n",
    "        base_pay = BASE_HOURS * rate\n",
    "        overtime = hours % BASE_HOURS        \n",
    "        over_pay = overtime * OVER_RATE\n",
    "        gross_pay = base_pay + over_pay\n",
    "    else:\n",
    "        gross_pay = hours * rate\n",
    "\n",
    "    print(f\"Employee gross pay: {gross_pay}\")\n",
    "\n",
    "    return None\n",
    "\n",
    "payroll()"
   ]
  },
  {
   "cell_type": "markdown",
   "metadata": {},
   "source": [
    "\n",
    "## Q3\n",
    "Write a function named times_ten. The function should accept an argument and display the product of its argument multiplied times 10."
   ]
  },
  {
   "cell_type": "code",
   "execution_count": 11,
   "metadata": {},
   "outputs": [
    {
     "name": "stdout",
     "output_type": "stream",
     "text": [
      "100\n"
     ]
    }
   ],
   "source": [
    "def times_ten(x):\n",
    "    \n",
    "    y = x * 10\n",
    "    print (y)\n",
    "\n",
    "    return None\n",
    "\n",
    "times_ten(10)"
   ]
  },
  {
   "cell_type": "markdown",
   "metadata": {},
   "source": [
    "\n",
    "## Q4\n",
    "Find the errors, debug the program, and then execute to show the output.\n",
    "```python\n",
    "def main()\n",
    "      Calories1 = input( \"How many calories are in the first food?\")\n",
    "      Calories2 = input( \"How many calories are in the first food?\")\n",
    "      showCalories(calories1, calories2)\n",
    "\n",
    "def showCalories()   \n",
    "   print(“The total calories you ate today”, format(calories1 + calories2,.2f))\n",
    "```\n"
   ]
  },
  {
   "cell_type": "code",
   "execution_count": null,
   "metadata": {},
   "outputs": [
    {
     "name": "stdout",
     "output_type": "stream",
     "text": [
      "The total calories you ate today 200.00\n"
     ]
    }
   ],
   "source": [
    "# fixed\n",
    "\n",
    "# This needs to be defined before main()\n",
    "def showCalories(calories1, calories2): # added colon,  arguments\n",
    "   print(f'The total calories you ate today {calories1 + calories2:.2f}')\n",
    "\n",
    "def main(): # added colon\n",
    "      calories1 = int(input( \"How many calories are in the first food?\")) # fixed variable names, convert to int\n",
    "      calories2 = int(input( \"How many calories are in the second food?\")) # updated prompt to \"second food\"\n",
    "      showCalories(calories1, calories2)\n",
    "\n",
    "main()"
   ]
  },
  {
   "cell_type": "markdown",
   "metadata": {},
   "source": [
    "\n",
    "## Q5\n",
    "Write a program that uses any loop (while or for) that calculates the total of the following series of numbers:\n",
    "         1/30 + 2/29 + 3/28 ............. + 30/1"
   ]
  },
  {
   "cell_type": "code",
   "execution_count": 9,
   "metadata": {},
   "outputs": [
    {
     "name": "stdout",
     "output_type": "stream",
     "text": [
      "93.84460105853213\n"
     ]
    }
   ],
   "source": [
    "def factorial_fractions():\n",
    "\n",
    "    # initiate variables\n",
    "    num = 1\n",
    "    denom = 30\n",
    "    x = 0\n",
    "\n",
    "    # Divide, add to total, update variables, repeat\n",
    "    while num < 31 and denom > 0: # redundacy, but good practice I think?\n",
    "        x += num / denom\n",
    "        num += 1\n",
    "        denom -= 1\n",
    "    \n",
    "    print(x)\n",
    "\n",
    "    return None\n",
    "\n",
    "factorial_fractions()"
   ]
  },
  {
   "cell_type": "markdown",
   "metadata": {},
   "source": [
    "\n",
    "## Q6\n",
    "Write a function that computes the area of a triangle given its base and height.\n",
    "The formula for an area of a triangle is:\n",
    "AREA = 1/2 * BASE * HEIGHT\n",
    "\n",
    "For example, if the base was 5 and the height was 4, the area would be 10.\n",
    "triangle_area(5, 4)   # should print 10\n"
   ]
  },
  {
   "cell_type": "code",
   "execution_count": 10,
   "metadata": {},
   "outputs": [
    {
     "name": "stdout",
     "output_type": "stream",
     "text": [
      "10.0\n"
     ]
    }
   ],
   "source": [
    "def triangle_area(base, height):\n",
    "    area = base * height * 0.5\n",
    "    print(area)\n",
    "    return None\n",
    "\n",
    "triangle_area(5, 4)"
   ]
  }
 ],
 "metadata": {
  "kernelspec": {
   "display_name": ".venv",
   "language": "python",
   "name": "python3"
  },
  "language_info": {
   "codemirror_mode": {
    "name": "ipython",
    "version": 3
   },
   "file_extension": ".py",
   "mimetype": "text/x-python",
   "name": "python",
   "nbconvert_exporter": "python",
   "pygments_lexer": "ipython3",
   "version": "3.13.1"
  }
 },
 "nbformat": 4,
 "nbformat_minor": 2
}
